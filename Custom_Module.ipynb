{
  "nbformat": 4,
  "nbformat_minor": 0,
  "metadata": {
    "colab": {
      "provenance": [],
      "authorship_tag": "ABX9TyPaGOGRX0PiyXVio9tp8McJ",
      "include_colab_link": true
    },
    "kernelspec": {
      "name": "python3",
      "display_name": "Python 3"
    },
    "language_info": {
      "name": "python"
    }
  },
  "cells": [
    {
      "cell_type": "markdown",
      "metadata": {
        "id": "view-in-github",
        "colab_type": "text"
      },
      "source": [
        "<a href=\"https://colab.research.google.com/github/Arifa555/Advanced-Cryptography24/blob/main/Custom_Module.ipynb\" target=\"_parent\"><img src=\"https://colab.research.google.com/assets/colab-badge.svg\" alt=\"Open In Colab\"/></a>"
      ]
    },
    {
      "cell_type": "code",
      "execution_count": 1,
      "metadata": {
        "colab": {
          "base_uri": "https://localhost:8080/"
        },
        "id": "0TAwE354boXg",
        "outputId": "5f6827da-f566-472b-bc72-972be8b48f91"
      },
      "outputs": [
        {
          "output_type": "stream",
          "name": "stdout",
          "text": [
            "[11, 12, 13, 14, 16, 17]\n"
          ]
        }
      ],
      "source": [
        "def getMissingVals(lst, endOfFirstList, startOf2ndList):\n",
        "    \"\"\"\n",
        "    This function identifies missing values between two split points in a sorted list.\n",
        "\n",
        "    Parameters:\n",
        "    lst (list): The original list of numbers.\n",
        "    endOfFirstList (int): The last value of the first split.\n",
        "    startOf2ndList (int): The first value of the second split.\n",
        "\n",
        "    Returns:\n",
        "    str or list: \"No missing Val\" if no values are missing, else returns a list of missing values.\n",
        "    \"\"\"\n",
        "    if endOfFirstList >= startOf2ndList:\n",
        "        return \"Invalid range\"\n",
        "\n",
        "    missing_vals = [i for i in range(endOfFirstList + 1, startOf2ndList) if i in lst]\n",
        "\n",
        "    return missing_vals if missing_vals else \"No missing Val\"\n",
        "\n",
        "# Example Usage:\n",
        "lst = list(range(1, 21))  # List from 1 to 20\n",
        "lst.remove(15)  # Remove 15 to simulate a missing value\n",
        "\n",
        "print(getMissingVals(lst, 10, 18))  # Output: [11, 12, 13, 14, 15, 16, 17]\n",
        "\n",
        ""
      ]
    }
  ]
}