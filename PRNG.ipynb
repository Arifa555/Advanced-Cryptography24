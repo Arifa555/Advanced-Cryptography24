{
  "nbformat": 4,
  "nbformat_minor": 0,
  "metadata": {
    "colab": {
      "provenance": [],
      "authorship_tag": "ABX9TyM8hmmhDFBWYf0Vbvdk/XyR",
      "include_colab_link": true
    },
    "kernelspec": {
      "name": "python3",
      "display_name": "Python 3"
    },
    "language_info": {
      "name": "python"
    }
  },
  "cells": [
    {
      "cell_type": "markdown",
      "metadata": {
        "id": "view-in-github",
        "colab_type": "text"
      },
      "source": [
        "<a href=\"https://colab.research.google.com/github/Arifa555/Advanced-Cryptography24/blob/main/PRNG.ipynb\" target=\"_parent\"><img src=\"https://colab.research.google.com/assets/colab-badge.svg\" alt=\"Open In Colab\"/></a>"
      ]
    },
    {
      "cell_type": "code",
      "execution_count": 1,
      "metadata": {
        "colab": {
          "base_uri": "https://localhost:8080/"
        },
        "id": "6mYwbVTFb3MX",
        "outputId": "c0d31695-00fb-48a3-f804-11e87ea364d1"
      },
      "outputs": [
        {
          "output_type": "stream",
          "name": "stdout",
          "text": [
            "0.9679012345679012\n"
          ]
        }
      ],
      "source": [
        "import time\n",
        "\n",
        "def pseudo_random(seed=None):\n",
        "    if seed is None:\n",
        "        seed = int(time.time() * 1000)  # Use current time as seed\n",
        "    seed = (seed * 9301 + 49297) % 233280  # Linear congruential generator (LCG)\n",
        "    return seed / 233280\n",
        "\n",
        "# Example usage\n",
        "print(pseudo_random())  # Generate a random number between 0 and 1\n"
      ]
    }
  ]
}