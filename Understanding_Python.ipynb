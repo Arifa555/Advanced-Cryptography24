{
  "nbformat": 4,
  "nbformat_minor": 0,
  "metadata": {
    "colab": {
      "provenance": [],
      "authorship_tag": "ABX9TyPZnbqscGTSKAIen383Bcg7",
      "include_colab_link": true
    },
    "kernelspec": {
      "name": "python3",
      "display_name": "Python 3"
    },
    "language_info": {
      "name": "python"
    }
  },
  "cells": [
    {
      "cell_type": "markdown",
      "metadata": {
        "id": "view-in-github",
        "colab_type": "text"
      },
      "source": [
        "<a href=\"https://colab.research.google.com/github/Arifa555/Advanced-Cryptography24/blob/main/Understanding_Python.ipynb\" target=\"_parent\"><img src=\"https://colab.research.google.com/assets/colab-badge.svg\" alt=\"Open In Colab\"/></a>"
      ]
    },
    {
      "cell_type": "code",
      "execution_count": 1,
      "metadata": {
        "colab": {
          "base_uri": "https://localhost:8080/"
        },
        "id": "iwNQ5kEHC-_p",
        "outputId": "34147a59-544f-444b-daae-a8408e184e2c"
      },
      "outputs": [
        {
          "output_type": "stream",
          "name": "stdout",
          "text": [
            "li1 = [2j, (1+3j), (2+4j), (3+5j), (4+6j), (5+7j)]\n",
            "li2 = [(2+4j), (4+6j), (6+8j), (8+10j), (10+12j), (12+14j)]\n",
            "li3= [(2+6j), (5+9j), (8+12j), (11+15j), (14+18j), (17+21j)]\n",
            "Encoded Message Size of type <class 'bytes'>:  145\n",
            "List Size of type <class 'list'>:  120\n",
            "Encoded Message Size of type <class 'str'>:  104\n",
            "Original list after addition [(2+6j), (5+9j), (8+12j), (11+15j), (14+18j), (17+21j)]\n",
            "Encoded Message: b'\\xff\\xfe[\\x00(\\x002\\x00+\\x006\\x00j\\x00)\\x00,\\x00 \\x00(\\x005\\x00+\\x009\\x00j\\x00)\\x00,\\x00 \\x00(\\x008\\x00+\\x001\\x002\\x00j\\x00)\\x00,\\x00 \\x00(\\x001\\x001\\x00+\\x001\\x005\\x00j\\x00)\\x00,\\x00 \\x00(\\x001\\x004\\x00+\\x001\\x008\\x00j\\x00)\\x00,\\x00 \\x00(\\x001\\x007\\x00+\\x002\\x001\\x00j\\x00)\\x00]\\x00'\n"
          ]
        }
      ],
      "source": [
        "\n",
        "\n",
        "import sys\n",
        "# Function to add two complex numbers\n",
        "def addComplex(z1, z2):\n",
        "    return z1 + z2  # Returns the sum of two complex numbers\n",
        "\n",
        "# List comprehension to generate a list of complex numbers\n",
        "# li1 contains complex numbers of the form (_, 2 + _) for _ in range(6)\n",
        "li1 = [complex(_, 2 + _) for _ in range(6)]\n",
        "\n",
        "# List comprehension to generate another list of complex numbers\n",
        "# li2 contains complex numbers of the form (_, 2 + _) for _ in range(2, 14, 2)\n",
        "li2 = [complex(_, 2 + _) for _ in range(2, 14, 2)]\n",
        "\n",
        "# Initialize an empty list to store the results of adding corresponding elements of li1 and li2\n",
        "li3 = []\n",
        "for i, j in zip(li1, li2):  # Iterate through pairs of elements from li1 and li2\n",
        "    li3.append(addComplex(i, j))  # Append the sum of the pair to li3\n",
        "\n",
        "# Print the generated lists and their result after addition\n",
        "print(f\"li1 = {li1}\\nli2 = {li2}\\nli3= {li3}\")\n",
        "\n",
        "# Encode the resulting list (li3) into a UTF-16 encoded byte object\n",
        "enc_mess = bytes(str(li3).encode('utf-16'))\n",
        "\n",
        "# Print the size (in bytes) of the encoded message\n",
        "print(f\"Encoded Message Size of type {type(enc_mess)}: \", sys.getsizeof(enc_mess))\n",
        "\n",
        "# Print the size (in bytes) of the original list\n",
        "print(f\"List Size of type {type(li3)}: \", sys.getsizeof(li3))\n",
        "\n",
        "# Print the size (in bytes) of the string representation of the list\n",
        "print(f\"Encoded Message Size of type {type(str(li3))}: \", sys.getsizeof(str(li3)))\n",
        "\n",
        "# Print the original list after addition\n",
        "print(\"Original list after addition\", li3)\n",
        "\n",
        "# Print the encoded message in UTF-16 format\n",
        "print(f\"Encoded Message: {enc_mess}\")\n",
        "\n",
        "# Uncomment the following line to demonstrate an alternative encoding approach\n",
        "# print(bytes(str(li3), 'utf-16'))"
      ]
    }
  ]
}