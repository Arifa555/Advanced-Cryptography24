{
  "nbformat": 4,
  "nbformat_minor": 0,
  "metadata": {
    "colab": {
      "provenance": [],
      "authorship_tag": "ABX9TyPGrf87UtzsRF4xoAYcbcyX",
      "include_colab_link": true
    },
    "kernelspec": {
      "name": "python3",
      "display_name": "Python 3"
    },
    "language_info": {
      "name": "python"
    }
  },
  "cells": [
    {
      "cell_type": "markdown",
      "metadata": {
        "id": "view-in-github",
        "colab_type": "text"
      },
      "source": [
        "<a href=\"https://colab.research.google.com/github/Arifa555/Advanced-Cryptography24/blob/main/One_Time_Pad_Arifa.ipynb\" target=\"_parent\"><img src=\"https://colab.research.google.com/assets/colab-badge.svg\" alt=\"Open In Colab\"/></a>"
      ]
    },
    {
      "cell_type": "code",
      "execution_count": null,
      "metadata": {
        "colab": {
          "base_uri": "https://localhost:8080/"
        },
        "id": "eTVQp5MITIPS",
        "outputId": "1d8b56ba-60ce-4944-d8e1-5a242a7cf62c"
      },
      "outputs": [
        {
          "output_type": "stream",
          "name": "stdout",
          "text": [
            "Decrypted Message: ZOVMQL\n"
          ]
        }
      ],
      "source": [
        "def decrypt_caesar_cipher(text, shift):\n",
        "    decrypted_text = \"\"\n",
        "    for char in text:\n",
        "        if char.isalpha():\n",
        "            start = ord('A') if char.isupper() else ord('a')\n",
        "            new_char = chr((ord(char) - start - shift) % 26 + start)\n",
        "            decrypted_text += new_char\n",
        "        else:\n",
        "            decrypted_text += char\n",
        "    return decrypted_text\n",
        "\n",
        "# Encrypted message and shift\n",
        "encrypted_message = \"CRYPTO\"\n",
        "shift_value = 3\n",
        "\n",
        "# Decrypt the message\n",
        "decrypted_message = decrypt_caesar_cipher(encrypted_message, shift_value)\n",
        "print(\"Decrypted Message:\", decrypted_message)\n"
      ]
    }
  ]
}